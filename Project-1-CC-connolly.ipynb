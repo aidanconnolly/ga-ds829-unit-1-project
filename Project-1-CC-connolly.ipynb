{
 "cells": [
  {
   "cell_type": "markdown",
   "metadata": {},
   "source": [
    "<img src=\"http://imgur.com/1ZcRyrc.png\" style=\"float: left; margin: 20px; height: 55px\">\n",
    "\n",
    "# Project 1: Python Coding Exercises\n",
    "\n",
    "_Authors: Joseph Nelson (DC) _\n",
    "\n",
    "Answers and explanations by Aidan Connolly\n",
    "\n",
    "---"
   ]
  },
  {
   "cell_type": "markdown",
   "metadata": {},
   "source": [
    "The following code challenges are drawn from common exercises used in technical interviews.\n",
    "\n",
    "Please note that there may be several ways to approach each challenge. If you get stuck, try mapping out your approach in pseudocode first. Finally, while solutions to problems like these may be found online, remember that if you copy/paste code that you can't explain, you'll be missing out on the point of the project. The only way to truly learn a new skill is through practice, trial, and error - we can only help you improve by understanding where you are having trouble."
   ]
  },
  {
   "cell_type": "markdown",
   "metadata": {},
   "source": [
    "---"
   ]
  },
  {
   "cell_type": "markdown",
   "metadata": {},
   "source": [
    "## Challenge 1: Largest Palindrome\n",
    "A palindromic number reads the same both ways. For example, 1234321 is a palindrome. The largest palindrome made from the product of two two-digit numbers is 9009 = 91 × 99. Find the largest palindrome made from the product of two three-digit numbers. Afterward, write a brief explanation walking through your code's logic in markdown."
   ]
  },
  {
   "cell_type": "code",
   "execution_count": 1,
   "metadata": {},
   "outputs": [
    {
     "name": "stdout",
     "output_type": "stream",
     "text": [
      "ANSWER: 906609 (913 x 993)\n"
     ]
    }
   ],
   "source": [
    "# Import function\n",
    "from itertools import combinations_with_replacement\n",
    "\n",
    "# Create variable to hold final answer\n",
    "largest = {'value': 0, 'factors': []}\n",
    "\n",
    "# Create list of all combinations of 2 three-digit numbers\n",
    "prod_set = combinations_with_replacement(range(100,1000), 2)\n",
    "\n",
    "# Iterate through the combinations\n",
    "for (a, b) in prod_set:\n",
    "    product = a * b \n",
    "    # If the resulting product is a palindrome...\n",
    "    if str(product) == str(product)[::-1]:\n",
    "        # And if the resulting product is largest seen so far...\n",
    "        if product > largest['value']:\n",
    "            # Update the largest variable with the latest result\n",
    "            largest = {\n",
    "                'value': product,\n",
    "                'factors': [a, b]\n",
    "            }\n",
    "            \n",
    "# Print result\n",
    "print(f\"ANSWER: {largest['value']} ({largest['factors'][0]} x {largest['factors'][1]})\")"
   ]
  },
  {
   "cell_type": "markdown",
   "metadata": {},
   "source": [
    "### Explanation\n",
    "For this problem, I knew the easiest way for me to check if a number was a palindrome was to convert it to a string and see if the reversed string was equivalent (using slicing).\n",
    "\n",
    "The next challenge was to create a list of all of the possible three-digit number combinations. Originally, I just did two for loops through a `range(100,1000)`, but I knew this was inefficient since it would repeat combinations (i.e. 224\\*478 and then 478\\*222). After doing some Googling about getting all possible combinations from two lists, I started using `itertools.product`, but I then found that `itertools.combinations_with_replacement` would give me exactly what I wanted.\n",
    "\n",
    "From there, I just needed to iterate through the list of options and keep track of which set provided the largest product. To do that, I calculated the product, checked if it was a palindrome, and then compared it to the saved product (if there was one). If it was bigger, I updated the product and the associated factors. This meant the value of `largest` at the end of the process would include the largest product and its factors."
   ]
  },
  {
   "cell_type": "markdown",
   "metadata": {},
   "source": [
    "---"
   ]
  },
  {
   "cell_type": "markdown",
   "metadata": {},
   "source": [
    "\n",
    "## Challenge 2: Summation of Primes\n",
    "The sum of the primes below 10 is 2 + 3 + 5 + 7 = 17. Find the sum of all the primes below 2,000. Afterward, write a brief explanation walking through your code's logic in markdown."
   ]
  },
  {
   "cell_type": "code",
   "execution_count": 2,
   "metadata": {},
   "outputs": [
    {
     "name": "stdout",
     "output_type": "stream",
     "text": [
      "ANSWER: 277050\n"
     ]
    }
   ],
   "source": [
    "def is_prime(number):\n",
    "    # Iterate through every number up to the input divided by 2 plus 1\n",
    "    for i in range(2, number // 2 + 1):\n",
    "        # If a number ever divides cleanly into the target number, return False\n",
    "        if number % i == 0:\n",
    "            return False\n",
    "    return True\n",
    "\n",
    "total = 0\n",
    "\n",
    "# Iterate through the range, updating the total if the number is prime\n",
    "for i in range(2, 2000):\n",
    "    if is_prime(i):\n",
    "        total += i\n",
    "\n",
    "# Print result\n",
    "print(f'ANSWER: {total}')\n"
   ]
  },
  {
   "cell_type": "markdown",
   "metadata": {},
   "source": [
    "### Explanation\n",
    "The key problem here is determining if a number is prime. The most straightforward way is to iterate through every number less than the target number, checking to see if the number divides evenly. If it does, the target number is not prime. If you iterate through them all without having any divide evenly, the number is prime.\n",
    "Translating this to code, you end up with something like:\n",
    "```\n",
    "for i in range(2, number):\n",
    "    if number % i == 0:\n",
    "        return False\n",
    "    return True\n",
    "```\n",
    "\n",
    "Then, this process can be shortened with the knowledge that all factors greater than the target number divided by 2 have a corresponding factor less than the target number divided by 2. This allows us to only iterate through the numbers up to the number divided by 2 plus 1 (to account for 4 being divisible by 2).\n",
    "\n",
    "Once we can check if a number is prime, we iterate through all numbers between 2 and 2000, adding those that are prime to the final total."
   ]
  },
  {
   "cell_type": "markdown",
   "metadata": {},
   "source": [
    "---"
   ]
  },
  {
   "cell_type": "markdown",
   "metadata": {},
   "source": [
    "## Challenge 3: Multiples of 3 and 5\n",
    "If we list all of the natural numbers below 10 that are multiples of 3 or 5, we get 3, 5, 6, and 9. The sum of these multiples is 23. Find the sum of all the multiples of 3 and 5 below 1,000. Afterward, write a brief explanation walking through your code's logic in markdown."
   ]
  },
  {
   "cell_type": "code",
   "execution_count": 3,
   "metadata": {},
   "outputs": [
    {
     "name": "stdout",
     "output_type": "stream",
     "text": [
      "ANSWER: 233168\n"
     ]
    }
   ],
   "source": [
    "def is_multiple(number, factor):\n",
    "    # Determine if the number is divisible by the factor\n",
    "    return number % factor == 0\n",
    "\n",
    "total = 0\n",
    "\n",
    "# Iterate through the range, updating the total if the number\n",
    "# is a multiple of 3 or 5\n",
    "for i in range(1, 1000):\n",
    "    if is_multiple(i, 3) or is_multiple(i, 5):\n",
    "        total += i\n",
    "\n",
    "# Print result\n",
    "print(f'ANSWER: {total}')"
   ]
  },
  {
   "cell_type": "markdown",
   "metadata": {},
   "source": [
    "### Explanation\n",
    "Similar to the last problem, this problem involves checking if target numbers are divisble by other numbers. Rather than hardcoding functions to check if numbers were multiples of 3 or 5, I built an agnostic function that can check any number.\n",
    "\n",
    "The script iterates through every number up to 1,000, and if the number is a multiple of 3 or 5, it adds it to the total, meaning the total is the answer after the script has finished."
   ]
  },
  {
   "cell_type": "markdown",
   "metadata": {},
   "source": [
    "---"
   ]
  },
  {
   "cell_type": "markdown",
   "metadata": {},
   "source": [
    "## Challenge 4: String Compressor\n",
    "Implement a method to perform basic string compression using the counts of repeated characters. (This is called run-length encoding.) For example, the string \"aabcccccaaa\" would become a2b1c5a3. If the “compressed” string would not become smaller than the original string, your method should return the original string. You can assume the string has only uppercase and lowercase letters (a–z). Specify whether your solution is case sensitive or case insensitive and what you would need to change to make it the other. Afterward, write a brief explanation walking through your code's logic in markdown."
   ]
  },
  {
   "cell_type": "code",
   "execution_count": 4,
   "metadata": {},
   "outputs": [],
   "source": [
    "def challenge_4(input_str, case_sensitive=True):\n",
    "    # Set the initial values\n",
    "    start_string = input_str\n",
    "    end_string = \"\"\n",
    "    old_character = None\n",
    "    character_count = 0\n",
    "\n",
    "    # Since we're going to iterate through the input string letter by letter,\n",
    "    # removing letters as we go, we can use a while loop that checks the length of the string\n",
    "    while len(start_string) > 0:\n",
    "        \n",
    "        # First, remove the first character from the string\n",
    "        new_character = start_string[0]\n",
    "        start_string = start_string[1:]\n",
    "        \n",
    "        # If the case_sensitive flag is false, lower the character\n",
    "        if not case_sensitive:\n",
    "            new_character = new_character.lower()\n",
    "        \n",
    "        # If the new character is different... \n",
    "        if new_character != old_character:\n",
    "            # If we've already counted a letter, add it and its count to the end string\n",
    "            if old_character:\n",
    "                end_string += old_character\n",
    "                end_string += str(character_count)\n",
    "            # Update the current character and reset the count\n",
    "            old_character = new_character\n",
    "            character_count = 1\n",
    "        # Otherwise, just increment the count\n",
    "        else:\n",
    "            character_count += 1\n",
    "    \n",
    "    # Once we've reached the end, add the final character and count\n",
    "    end_string += old_character\n",
    "    end_string += str(character_count)\n",
    "    \n",
    "    # If the resulting string isn't shorter, return the original string\n",
    "    if len(end_string) >= len(input_str):\n",
    "        return input_str\n",
    "    else:\n",
    "        return(end_string)"
   ]
  },
  {
   "cell_type": "code",
   "execution_count": 5,
   "metadata": {},
   "outputs": [],
   "source": [
    "# Test cases\n",
    "assert(challenge_4('aabcccccaaa') == 'a2b1c5a3')\n",
    "assert(challenge_4('cat') == 'cat')\n",
    "assert(challenge_4('ababababab') == 'ababababab')\n",
    "assert(challenge_4('111bcccc8gggg') == '13b1c481g4')\n",
    "assert(challenge_4('abbbbbbbbbbbb') == 'a1b12')\n",
    "assert(challenge_4('ababABABab') == 'ababABABab')\n",
    "assert(challenge_4('aBBBBBBbbbbbb') == 'a1B6b6')\n",
    "assert(challenge_4('aBBBBBBbbbbbb', case_sensitive=False) == 'a1b12')\n",
    "assert(challenge_4('ababABABab', case_sensitive=False) == 'ababABABab')\n",
    "assert(challenge_4('aaAAbbBBccCCC', case_sensitive=True) == 'a2A2b2B2c2C3')\n",
    "assert(challenge_4('aaAAbbBBccCCC', case_sensitive=False) == 'a4b4c5')"
   ]
  },
  {
   "cell_type": "markdown",
   "metadata": {},
   "source": [
    "### Explanation\n",
    "Overall, the idea is to iterate through each letter of the input string. If it's the same character as the previous character, increment the count by 1. If it's different, add the previous character and count to the end string and start counting the new character.\n",
    "\n",
    "To accomplish this, I decided to remove characters from the string as we go, so a while loop is used to run until the string is empty. Then, the new character is compared to the previous character (if there is one). If it's different and we've already counted a letter, add the previous letter and count to the string. Otherwise, just initialize the count for the first letter.\n",
    "\n",
    "The while loop exits before the final letter and count are appended, so those are appended specifically once the loop is complete.\n",
    "\n",
    "Finally, the resulting string is compared to the original string, as the compressed string should only be returned if it's shorter.\n",
    "\n",
    "The function runs as case sensitive by default, but by providing `case_sensitive=False`, the function will run as case insensitive."
   ]
  },
  {
   "cell_type": "markdown",
   "metadata": {},
   "source": [
    "---"
   ]
  },
  {
   "cell_type": "markdown",
   "metadata": {},
   "source": [
    "## *BONUS* Challenge: FizzBuzz\n",
    "Write a program that prints all of the numbers from 1 to 100. For multiples of 3, instead of the number, print \"Fizz;\" for multiples of 5, print \"Buzz.\" For numbers that are multiples of both 3 and 5, print \"FizzBuzz.\" Afterward, write a brief explanation walking through your code's logic in markdown."
   ]
  },
  {
   "cell_type": "code",
   "execution_count": 6,
   "metadata": {},
   "outputs": [
    {
     "name": "stdout",
     "output_type": "stream",
     "text": [
      "1\n",
      "2\n",
      "Fizz\n",
      "4\n",
      "Buzz\n",
      "Fizz\n",
      "7\n",
      "8\n",
      "Fizz\n",
      "Buzz\n",
      "11\n",
      "Fizz\n",
      "13\n",
      "14\n",
      "FizzBuzz\n",
      "16\n",
      "17\n",
      "Fizz\n",
      "19\n",
      "Buzz\n",
      "Fizz\n",
      "22\n",
      "23\n",
      "Fizz\n",
      "Buzz\n",
      "26\n",
      "Fizz\n",
      "28\n",
      "29\n",
      "FizzBuzz\n",
      "31\n",
      "32\n",
      "Fizz\n",
      "34\n",
      "Buzz\n",
      "Fizz\n",
      "37\n",
      "38\n",
      "Fizz\n",
      "Buzz\n",
      "41\n",
      "Fizz\n",
      "43\n",
      "44\n",
      "FizzBuzz\n",
      "46\n",
      "47\n",
      "Fizz\n",
      "49\n",
      "Buzz\n",
      "Fizz\n",
      "52\n",
      "53\n",
      "Fizz\n",
      "Buzz\n",
      "56\n",
      "Fizz\n",
      "58\n",
      "59\n",
      "FizzBuzz\n",
      "61\n",
      "62\n",
      "Fizz\n",
      "64\n",
      "Buzz\n",
      "Fizz\n",
      "67\n",
      "68\n",
      "Fizz\n",
      "Buzz\n",
      "71\n",
      "Fizz\n",
      "73\n",
      "74\n",
      "FizzBuzz\n",
      "76\n",
      "77\n",
      "Fizz\n",
      "79\n",
      "Buzz\n",
      "Fizz\n",
      "82\n",
      "83\n",
      "Fizz\n",
      "Buzz\n",
      "86\n",
      "Fizz\n",
      "88\n",
      "89\n",
      "FizzBuzz\n",
      "91\n",
      "92\n",
      "Fizz\n",
      "94\n",
      "Buzz\n",
      "Fizz\n",
      "97\n",
      "98\n",
      "Fizz\n",
      "Buzz\n"
     ]
    }
   ],
   "source": [
    "def is_multiple(number, factor):\n",
    "    return number % factor == 0\n",
    "\n",
    "for i in range(1, 101):\n",
    "    # Check if the number is divisible by 3\n",
    "    check_3 = is_multiple(i, 3)\n",
    "    \n",
    "    # Check if the number is divisible by 5\n",
    "    check_5 = is_multiple(i, 5)\n",
    "    \n",
    "    # Use f-string expressions to print the appropriate value\n",
    "    print(f\"{'Fizz' if check_3 else ''}{'Buzz' if check_5 else ''}{i if not check_3 and not check_5 else ''}\")"
   ]
  },
  {
   "cell_type": "markdown",
   "metadata": {},
   "source": [
    "### Explanation\n",
    "This problem builds heavily on Challenge 3. In fact, it uses the same `is_multiple()` function. I decided to use f-strings for this problem, which might not be the easiest to understand if reading the code, but I enjoy using them. \n",
    "\n",
    "I created the `check_3` and `check_5` variables to make the print statement a little shorter. Then, in the print statement, it's just an f-string made up of three expressions using a ternary operator of sorts. The first expression checks if the number is divisible by 3. If it is, it returns \"Fizz\", otherwise it returns an empty string. The second expression does the same with a divisor of 5. Finally, the third expression checks if both `check_3` and `check_5` are False. If so, it returns the number, otherwise it returns an empty string.\n",
    "\n",
    "What this means is that for numbers not divisible by 3 or 5, the first two expressions return empty strings and the third expression returns the number, resulting in the number being printed (roughly equivalent to `print(\"\" + \"\" + \"2\")`).\n",
    "\n",
    "If the number is only divisible by 3, the first expression returns \"Fizz\" and the other two return empty strings (roughly equivalent to `print(\"Fizz\" + \"\" + \"\")`).\n",
    "\n",
    "If the number is only divisible by 5, the second expression returns \"Buzz\" and the other two return empty strings (roughly equivalent to `print(\"\" + \"Buzz\" + \"\")`).\n",
    "\n",
    "And if the number is divisible by 3 and 5, the first expression returns \"Fizz\", the second expression returns \"Buzz\", and the third expression returns an empty string (roughly equivalent to `print(\"Fizz\" + \"Buzz\" + \"\")`)."
   ]
  }
 ],
 "metadata": {
  "anaconda-cloud": {},
  "kernelspec": {
   "display_name": "Python 3 (ipykernel)",
   "language": "python",
   "name": "python3"
  },
  "language_info": {
   "codemirror_mode": {
    "name": "ipython",
    "version": 3
   },
   "file_extension": ".py",
   "mimetype": "text/x-python",
   "name": "python",
   "nbconvert_exporter": "python",
   "pygments_lexer": "ipython3",
   "version": "3.10.4"
  }
 },
 "nbformat": 4,
 "nbformat_minor": 2
}
